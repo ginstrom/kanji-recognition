{
 "cells": [
  {
   "cell_type": "markdown",
   "id": "4684c2d5",
   "metadata": {},
   "source": [
    "# Training a Handwritten Kanji Recognition Model with ETL9B (PyTorch)"
   ]
  },
  {
   "cell_type": "markdown",
   "id": "7914453b",
   "metadata": {},
   "source": [
    "## 1. Dataset Acquisition & Preprocessing"
   ]
  },
  {
   "cell_type": "code",
   "execution_count": null,
   "id": "9123eec8",
   "metadata": {},
   "outputs": [],
   "source": [
    "import struct\n",
    "import numpy as np\n",
    "from PIL import Image\n",
    "from torch.utils.data import Dataset\n",
    "\n",
    "class ETL9BDataset(Dataset):\n",
    "    def __init__(self, file_path, transform=None):\n",
    "        self.data = []\n",
    "        self.labels = []\n",
    "        self.transform = transform\n",
    "\n",
    "        with open(file_path, 'rb') as f:\n",
    "            while True:\n",
    "                s = f.read(512)\n",
    "                if not s:\n",
    "                    break\n",
    "                try:\n",
    "                    r = struct.unpack('>2H4s504s', s)\n",
    "                    i = Image.frombytes('F', (128, 127), r[3], 'bit', 4)\n",
    "                    i = i.convert('L')\n",
    "                    label = r[0]  # JIS code\n",
    "                    self.data.append(i)\n",
    "                    self.labels.append(label)\n",
    "                except Exception as e:\n",
    "                    continue\n",
    "\n",
    "    def __len__(self):\n",
    "        return len(self.data)\n",
    "\n",
    "    def __getitem__(self, idx):\n",
    "        img, label = self.data[idx], self.labels[idx]\n",
    "        if self.transform:\n",
    "            img = self.transform(img)\n",
    "        return img, label"
   ]
  },
  {
   "cell_type": "markdown",
   "id": "b5a0dacb",
   "metadata": {},
   "source": [
    "## 2. Transformations and DataLoader"
   ]
  },
  {
   "cell_type": "code",
   "execution_count": null,
   "id": "6143ed6c",
   "metadata": {},
   "outputs": [],
   "source": [
    "import torchvision.transforms as transforms\n",
    "from torch.utils.data import DataLoader\n",
    "\n",
    "transform = transforms.Compose([\n",
    "    transforms.Resize((128, 128)),\n",
    "    transforms.ToTensor(),\n",
    "    transforms.Normalize((0.5,), (0.5,))\n",
    "])\n",
    "\n",
    "train_dataset = ETL9BDataset('ETL9B/ETL9B_1', transform=transform)\n",
    "train_loader = DataLoader(train_dataset, batch_size=64, shuffle=True)"
   ]
  },
  {
   "cell_type": "markdown",
   "id": "8f8407a1",
   "metadata": {},
   "source": [
    "## 3. CNN Model for Classification"
   ]
  },
  {
   "cell_type": "code",
   "execution_count": null,
   "id": "f9ea4f2b",
   "metadata": {},
   "outputs": [],
   "source": [
    "import torch\n",
    "import torch.nn as nn\n",
    "import torch.nn.functional as F\n",
    "\n",
    "class KanjiCNN(nn.Module):\n",
    "    def __init__(self, num_classes=3036):\n",
    "        super(KanjiCNN, self).__init__()\n",
    "        self.conv1 = nn.Conv2d(1, 32, kernel_size=3, padding=1)\n",
    "        self.conv2 = nn.Conv2d(32, 64, kernel_size=3, padding=1)\n",
    "        self.pool = nn.MaxPool2d(2, 2)\n",
    "        self.fc1 = nn.Linear(64 * 32 * 32, 1024)\n",
    "        self.dropout = nn.Dropout(0.5)\n",
    "        self.fc2 = nn.Linear(1024, num_classes)\n",
    "\n",
    "    def forward(self, x):\n",
    "        x = self.pool(F.relu(self.conv1(x)))\n",
    "        x = self.pool(F.relu(self.conv2(x)))\n",
    "        x = x.view(-1, 64 * 32 * 32)\n",
    "        x = F.relu(self.fc1(x))\n",
    "        x = self.dropout(x)\n",
    "        x = self.fc2(x)\n",
    "        return x"
   ]
  },
  {
   "cell_type": "markdown",
   "id": "2f425395",
   "metadata": {},
   "source": [
    "## 4. Training Loop"
   ]
  },
  {
   "cell_type": "code",
   "execution_count": null,
   "id": "f5bf372a",
   "metadata": {},
   "outputs": [],
   "source": [
    "import torch.optim as optim\n",
    "\n",
    "model = KanjiCNN()\n",
    "criterion = nn.CrossEntropyLoss()\n",
    "optimizer = optim.Adam(model.parameters(), lr=0.001)\n",
    "\n",
    "for epoch in range(10):\n",
    "    running_loss = 0.0\n",
    "    for images, labels in train_loader:\n",
    "        optimizer.zero_grad()\n",
    "        outputs = model(images)\n",
    "        loss = criterion(outputs, labels)\n",
    "        loss.backward()\n",
    "        optimizer.step()\n",
    "        running_loss += loss.item()\n",
    "    print(f\"Epoch {epoch+1}, Loss: {running_loss:.4f}\")"
   ]
  },
  {
   "cell_type": "markdown",
   "id": "32ce5b14",
   "metadata": {},
   "source": [
    "## 5. Save Model"
   ]
  },
  {
   "cell_type": "code",
   "execution_count": null,
   "id": "d2570945",
   "metadata": {},
   "outputs": [],
   "source": [
    "torch.save(model.state_dict(), 'kanji_cnn.pth')"
   ]
  }
 ],
 "metadata": {},
 "nbformat": 4,
 "nbformat_minor": 5
}